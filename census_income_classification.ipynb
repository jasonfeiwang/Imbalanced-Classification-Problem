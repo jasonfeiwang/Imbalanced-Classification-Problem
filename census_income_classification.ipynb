{
 "cells": [
  {
   "cell_type": "markdown",
   "metadata": {},
   "source": [
    "## Problem Statement"
   ]
  },
  {
   "cell_type": "code",
   "execution_count": 1,
   "metadata": {
    "collapsed": true
   },
   "outputs": [],
   "source": [
    "# Prediction task is to determine the income level for the person\n",
    "# represented by the record.  Incomes have been binned at the $50K\n",
    "# level to present a binary classification problem,"
   ]
  },
  {
   "cell_type": "markdown",
   "metadata": {},
   "source": [
    "## Hypotheses Generation"
   ]
  },
  {
   "cell_type": "code",
   "execution_count": 2,
   "metadata": {
    "collapsed": true
   },
   "outputs": [],
   "source": [
    "# There exists significant impacts of the variables (below) on the dependent variable.\n",
    "\n",
    "# Age\n",
    "# Marital Status\n",
    "# Family Members\n",
    "# No. of Dependents\n",
    "# Tax Paid\n",
    "# Investment (Mutual Fund, Stock)\n",
    "# Return from Investments\n",
    "# Education\n",
    "# Spouse Education\n",
    "# Nationality\n",
    "# Occupation\n",
    "# Region in US\n",
    "### Year started working (cycles of the U.S. economy)\n",
    "# Race\n",
    "# Occupation category"
   ]
  },
  {
   "cell_type": "code",
   "execution_count": 3,
   "metadata": {
    "collapsed": true
   },
   "outputs": [],
   "source": [
    "# The instance weight indicates the number of people in the population\n",
    "# that each record represents due to stratified sampling.\n",
    "# To do real analysis and derive conclusions, this field must be used.\n",
    "# This attribute should *not* be used in the classifiers, so it is\n",
    "# set to \"ignore\" in this file."
   ]
  },
  {
   "cell_type": "code",
   "execution_count": null,
   "metadata": {
    "collapsed": true
   },
   "outputs": [],
   "source": []
  },
  {
   "cell_type": "markdown",
   "metadata": {},
   "source": [
    "## EDA"
   ]
  },
  {
   "cell_type": "markdown",
   "metadata": {},
   "source": [
    "#### Load the datasets"
   ]
  },
  {
   "cell_type": "code",
   "execution_count": 4,
   "metadata": {
    "collapsed": false
   },
   "outputs": [],
   "source": [
    "import pandas as pd"
   ]
  },
  {
   "cell_type": "code",
   "execution_count": 5,
   "metadata": {
    "collapsed": true
   },
   "outputs": [],
   "source": [
    "train_df = pd.read_csv('train.csv')\n",
    "test_df = pd.read_csv('test.csv')"
   ]
  },
  {
   "cell_type": "code",
   "execution_count": 6,
   "metadata": {
    "collapsed": false
   },
   "outputs": [
    {
     "data": {
      "text/plain": [
       "(199523, 41)"
      ]
     },
     "execution_count": 6,
     "metadata": {},
     "output_type": "execute_result"
    }
   ],
   "source": [
    "train_df.shape"
   ]
  },
  {
   "cell_type": "code",
   "execution_count": 7,
   "metadata": {
    "collapsed": false
   },
   "outputs": [
    {
     "data": {
      "text/plain": [
       "(99762, 41)"
      ]
     },
     "execution_count": 7,
     "metadata": {},
     "output_type": "execute_result"
    }
   ],
   "source": [
    "test_df.shape"
   ]
  },
  {
   "cell_type": "code",
   "execution_count": 8,
   "metadata": {
    "collapsed": false
   },
   "outputs": [
    {
     "data": {
      "text/html": [
       "<div>\n",
       "<table border=\"1\" class=\"dataframe\">\n",
       "  <thead>\n",
       "    <tr style=\"text-align: right;\">\n",
       "      <th></th>\n",
       "      <th>age</th>\n",
       "      <th>class_of_worker</th>\n",
       "      <th>industry_code</th>\n",
       "      <th>occupation_code</th>\n",
       "      <th>education</th>\n",
       "      <th>wage_per_hour</th>\n",
       "      <th>enrolled_in_edu_inst_lastwk</th>\n",
       "      <th>marital_status</th>\n",
       "      <th>major_industry_code</th>\n",
       "      <th>major_occupation_code</th>\n",
       "      <th>...</th>\n",
       "      <th>country_father</th>\n",
       "      <th>country_mother</th>\n",
       "      <th>country_self</th>\n",
       "      <th>citizenship</th>\n",
       "      <th>business_or_self_employed</th>\n",
       "      <th>fill_questionnaire_veteran_admin</th>\n",
       "      <th>veterans_benefits</th>\n",
       "      <th>weeks_worked_in_year</th>\n",
       "      <th>year</th>\n",
       "      <th>income_level</th>\n",
       "    </tr>\n",
       "  </thead>\n",
       "  <tbody>\n",
       "    <tr>\n",
       "      <th>0</th>\n",
       "      <td>73</td>\n",
       "      <td>Not in universe</td>\n",
       "      <td>0</td>\n",
       "      <td>0</td>\n",
       "      <td>High school graduate</td>\n",
       "      <td>0</td>\n",
       "      <td>Not in universe</td>\n",
       "      <td>Widowed</td>\n",
       "      <td>Not in universe or children</td>\n",
       "      <td>Not in universe</td>\n",
       "      <td>...</td>\n",
       "      <td>United-States</td>\n",
       "      <td>United-States</td>\n",
       "      <td>United-States</td>\n",
       "      <td>Native- Born in the United States</td>\n",
       "      <td>0</td>\n",
       "      <td>Not in universe</td>\n",
       "      <td>2</td>\n",
       "      <td>0</td>\n",
       "      <td>95</td>\n",
       "      <td>-50000</td>\n",
       "    </tr>\n",
       "    <tr>\n",
       "      <th>1</th>\n",
       "      <td>58</td>\n",
       "      <td>Self-employed-not incorporated</td>\n",
       "      <td>4</td>\n",
       "      <td>34</td>\n",
       "      <td>Some college but no degree</td>\n",
       "      <td>0</td>\n",
       "      <td>Not in universe</td>\n",
       "      <td>Divorced</td>\n",
       "      <td>Construction</td>\n",
       "      <td>Precision production craft &amp; repair</td>\n",
       "      <td>...</td>\n",
       "      <td>United-States</td>\n",
       "      <td>United-States</td>\n",
       "      <td>United-States</td>\n",
       "      <td>Native- Born in the United States</td>\n",
       "      <td>0</td>\n",
       "      <td>Not in universe</td>\n",
       "      <td>2</td>\n",
       "      <td>52</td>\n",
       "      <td>94</td>\n",
       "      <td>-50000</td>\n",
       "    </tr>\n",
       "    <tr>\n",
       "      <th>2</th>\n",
       "      <td>18</td>\n",
       "      <td>Not in universe</td>\n",
       "      <td>0</td>\n",
       "      <td>0</td>\n",
       "      <td>10th grade</td>\n",
       "      <td>0</td>\n",
       "      <td>High school</td>\n",
       "      <td>Never married</td>\n",
       "      <td>Not in universe or children</td>\n",
       "      <td>Not in universe</td>\n",
       "      <td>...</td>\n",
       "      <td>Vietnam</td>\n",
       "      <td>Vietnam</td>\n",
       "      <td>Vietnam</td>\n",
       "      <td>Foreign born- Not a citizen of U S</td>\n",
       "      <td>0</td>\n",
       "      <td>Not in universe</td>\n",
       "      <td>2</td>\n",
       "      <td>0</td>\n",
       "      <td>95</td>\n",
       "      <td>-50000</td>\n",
       "    </tr>\n",
       "  </tbody>\n",
       "</table>\n",
       "<p>3 rows × 41 columns</p>\n",
       "</div>"
      ],
      "text/plain": [
       "   age                 class_of_worker  industry_code  occupation_code  \\\n",
       "0   73                 Not in universe              0                0   \n",
       "1   58  Self-employed-not incorporated              4               34   \n",
       "2   18                 Not in universe              0                0   \n",
       "\n",
       "                    education  wage_per_hour enrolled_in_edu_inst_lastwk  \\\n",
       "0        High school graduate              0             Not in universe   \n",
       "1  Some college but no degree              0             Not in universe   \n",
       "2                  10th grade              0                 High school   \n",
       "\n",
       "  marital_status          major_industry_code  \\\n",
       "0        Widowed  Not in universe or children   \n",
       "1       Divorced                 Construction   \n",
       "2  Never married  Not in universe or children   \n",
       "\n",
       "                 major_occupation_code     ...      country_father  \\\n",
       "0                      Not in universe     ...       United-States   \n",
       "1  Precision production craft & repair     ...       United-States   \n",
       "2                      Not in universe     ...             Vietnam   \n",
       "\n",
       "  country_mother   country_self                         citizenship  \\\n",
       "0  United-States  United-States   Native- Born in the United States   \n",
       "1  United-States  United-States   Native- Born in the United States   \n",
       "2        Vietnam        Vietnam  Foreign born- Not a citizen of U S   \n",
       "\n",
       "  business_or_self_employed fill_questionnaire_veteran_admin  \\\n",
       "0                         0                  Not in universe   \n",
       "1                         0                  Not in universe   \n",
       "2                         0                  Not in universe   \n",
       "\n",
       "   veterans_benefits  weeks_worked_in_year  year income_level  \n",
       "0                  2                     0    95       -50000  \n",
       "1                  2                    52    94       -50000  \n",
       "2                  2                     0    95       -50000  \n",
       "\n",
       "[3 rows x 41 columns]"
      ]
     },
     "execution_count": 8,
     "metadata": {},
     "output_type": "execute_result"
    }
   ],
   "source": [
    "train_df.head(3)"
   ]
  },
  {
   "cell_type": "code",
   "execution_count": 9,
   "metadata": {
    "collapsed": false
   },
   "outputs": [
    {
     "data": {
      "text/html": [
       "<div>\n",
       "<table border=\"1\" class=\"dataframe\">\n",
       "  <thead>\n",
       "    <tr style=\"text-align: right;\">\n",
       "      <th></th>\n",
       "      <th>age</th>\n",
       "      <th>class_of_worker</th>\n",
       "      <th>industry_code</th>\n",
       "      <th>occupation_code</th>\n",
       "      <th>education</th>\n",
       "      <th>wage_per_hour</th>\n",
       "      <th>enrolled_in_edu_inst_lastwk</th>\n",
       "      <th>marital_status</th>\n",
       "      <th>major_industry_code</th>\n",
       "      <th>major_occupation_code</th>\n",
       "      <th>...</th>\n",
       "      <th>country_father</th>\n",
       "      <th>country_mother</th>\n",
       "      <th>country_self</th>\n",
       "      <th>citizenship</th>\n",
       "      <th>business_or_self_employed</th>\n",
       "      <th>fill_questionnaire_veteran_admin</th>\n",
       "      <th>veterans_benefits</th>\n",
       "      <th>weeks_worked_in_year</th>\n",
       "      <th>year</th>\n",
       "      <th>income_level</th>\n",
       "    </tr>\n",
       "  </thead>\n",
       "  <tbody>\n",
       "    <tr>\n",
       "      <th>0</th>\n",
       "      <td>38</td>\n",
       "      <td>Private</td>\n",
       "      <td>6</td>\n",
       "      <td>36</td>\n",
       "      <td>1st 2nd 3rd or 4th grade</td>\n",
       "      <td>0</td>\n",
       "      <td>Not in universe</td>\n",
       "      <td>Married-civilian spouse present</td>\n",
       "      <td>Manufacturing-durable goods</td>\n",
       "      <td>Machine operators assmblrs &amp; inspctrs</td>\n",
       "      <td>...</td>\n",
       "      <td>Mexico</td>\n",
       "      <td>Mexico</td>\n",
       "      <td>Mexico</td>\n",
       "      <td>Foreign born- Not a citizen of U S</td>\n",
       "      <td>0</td>\n",
       "      <td>Not in universe</td>\n",
       "      <td>2</td>\n",
       "      <td>12</td>\n",
       "      <td>95</td>\n",
       "      <td>-50000</td>\n",
       "    </tr>\n",
       "    <tr>\n",
       "      <th>1</th>\n",
       "      <td>44</td>\n",
       "      <td>Self-employed-not incorporated</td>\n",
       "      <td>37</td>\n",
       "      <td>12</td>\n",
       "      <td>Associates degree-occup /vocational</td>\n",
       "      <td>0</td>\n",
       "      <td>Not in universe</td>\n",
       "      <td>Married-civilian spouse present</td>\n",
       "      <td>Business and repair services</td>\n",
       "      <td>Professional specialty</td>\n",
       "      <td>...</td>\n",
       "      <td>United-States</td>\n",
       "      <td>United-States</td>\n",
       "      <td>United-States</td>\n",
       "      <td>Native- Born in the United States</td>\n",
       "      <td>0</td>\n",
       "      <td>Not in universe</td>\n",
       "      <td>2</td>\n",
       "      <td>26</td>\n",
       "      <td>95</td>\n",
       "      <td>-50000</td>\n",
       "    </tr>\n",
       "    <tr>\n",
       "      <th>2</th>\n",
       "      <td>2</td>\n",
       "      <td>Not in universe</td>\n",
       "      <td>0</td>\n",
       "      <td>0</td>\n",
       "      <td>Children</td>\n",
       "      <td>0</td>\n",
       "      <td>Not in universe</td>\n",
       "      <td>Never married</td>\n",
       "      <td>Not in universe or children</td>\n",
       "      <td>Not in universe</td>\n",
       "      <td>...</td>\n",
       "      <td>United-States</td>\n",
       "      <td>United-States</td>\n",
       "      <td>United-States</td>\n",
       "      <td>Native- Born in the United States</td>\n",
       "      <td>0</td>\n",
       "      <td>Not in universe</td>\n",
       "      <td>0</td>\n",
       "      <td>0</td>\n",
       "      <td>95</td>\n",
       "      <td>-50000</td>\n",
       "    </tr>\n",
       "  </tbody>\n",
       "</table>\n",
       "<p>3 rows × 41 columns</p>\n",
       "</div>"
      ],
      "text/plain": [
       "   age                  class_of_worker  industry_code  occupation_code  \\\n",
       "0   38                          Private              6               36   \n",
       "1   44   Self-employed-not incorporated             37               12   \n",
       "2    2                  Not in universe              0                0   \n",
       "\n",
       "                              education  wage_per_hour  \\\n",
       "0              1st 2nd 3rd or 4th grade              0   \n",
       "1   Associates degree-occup /vocational              0   \n",
       "2                              Children              0   \n",
       "\n",
       "  enrolled_in_edu_inst_lastwk                    marital_status  \\\n",
       "0             Not in universe   Married-civilian spouse present   \n",
       "1             Not in universe   Married-civilian spouse present   \n",
       "2             Not in universe                     Never married   \n",
       "\n",
       "             major_industry_code                   major_occupation_code  \\\n",
       "0    Manufacturing-durable goods   Machine operators assmblrs & inspctrs   \n",
       "1   Business and repair services                  Professional specialty   \n",
       "2    Not in universe or children                         Not in universe   \n",
       "\n",
       "      ...       country_father  country_mother    country_self  \\\n",
       "0     ...               Mexico          Mexico          Mexico   \n",
       "1     ...        United-States   United-States   United-States   \n",
       "2     ...        United-States   United-States   United-States   \n",
       "\n",
       "                            citizenship business_or_self_employed  \\\n",
       "0   Foreign born- Not a citizen of U S                          0   \n",
       "1     Native- Born in the United States                         0   \n",
       "2     Native- Born in the United States                         0   \n",
       "\n",
       "  fill_questionnaire_veteran_admin  veterans_benefits  weeks_worked_in_year  \\\n",
       "0                  Not in universe                  2                    12   \n",
       "1                  Not in universe                  2                    26   \n",
       "2                  Not in universe                  0                     0   \n",
       "\n",
       "   year income_level  \n",
       "0    95       -50000  \n",
       "1    95       -50000  \n",
       "2    95       -50000  \n",
       "\n",
       "[3 rows x 41 columns]"
      ]
     },
     "execution_count": 9,
     "metadata": {},
     "output_type": "execute_result"
    }
   ],
   "source": [
    "test_df.head(3)"
   ]
  },
  {
   "cell_type": "markdown",
   "metadata": {},
   "source": [
    "#### check missing values"
   ]
  },
  {
   "cell_type": "markdown",
   "metadata": {},
   "source": [
    "test dataset has no columns with missing values"
   ]
  },
  {
   "cell_type": "code",
   "execution_count": 10,
   "metadata": {
    "collapsed": false
   },
   "outputs": [
    {
     "data": {
      "text/plain": [
       "age                                 1.0\n",
       "d_household_family_stat             1.0\n",
       "d_household_summary                 1.0\n",
       "migration_msa                       1.0\n",
       "migration_reg                       1.0\n",
       "migration_within_reg                1.0\n",
       "live_1_year_ago                     1.0\n",
       "migration_sunbelt                   1.0\n",
       "num_person_Worked_employer          1.0\n",
       "family_members_under_18             1.0\n",
       "country_father                      1.0\n",
       "country_mother                      1.0\n",
       "country_self                        1.0\n",
       "citizenship                         1.0\n",
       "business_or_self_employed           1.0\n",
       "fill_questionnaire_veteran_admin    1.0\n",
       "veterans_benefits                   1.0\n",
       "weeks_worked_in_year                1.0\n",
       "state_of_previous_residence         1.0\n",
       "year                                1.0\n",
       "region_of_previous_residence        1.0\n",
       "dividend_from_Stocks                1.0\n",
       "class_of_worker                     1.0\n",
       "industry_code                       1.0\n",
       "occupation_code                     1.0\n",
       "education                           1.0\n",
       "wage_per_hour                       1.0\n",
       "enrolled_in_edu_inst_lastwk         1.0\n",
       "marital_status                      1.0\n",
       "major_industry_code                 1.0\n",
       "major_occupation_code               1.0\n",
       "race                                1.0\n",
       "hispanic_origin                     1.0\n",
       "sex                                 1.0\n",
       "member_of_labor_union               1.0\n",
       "reason_for_unemployment             1.0\n",
       "full_parttime_employment_stat       1.0\n",
       "capital_gains                       1.0\n",
       "capital_losses                      1.0\n",
       "tax_filer_status                    1.0\n",
       "income_level                        1.0\n",
       "dtype: float64"
      ]
     },
     "execution_count": 10,
     "metadata": {},
     "output_type": "execute_result"
    }
   ],
   "source": [
    "(test_df.count()/(test_df.count().max())).sort_values(ascending = True)"
   ]
  },
  {
   "cell_type": "code",
   "execution_count": 11,
   "metadata": {
    "collapsed": false
   },
   "outputs": [
    {
     "data": {
      "text/plain": [
       "age                                  int64\n",
       "weeks_worked_in_year                 int64\n",
       "industry_code                        int64\n",
       "occupation_code                      int64\n",
       "veterans_benefits                    int64\n",
       "wage_per_hour                        int64\n",
       "year                                 int64\n",
       "business_or_self_employed            int64\n",
       "dividend_from_Stocks                 int64\n",
       "capital_losses                       int64\n",
       "capital_gains                        int64\n",
       "num_person_Worked_employer           int64\n",
       "migration_within_reg                object\n",
       "live_1_year_ago                     object\n",
       "country_father                      object\n",
       "family_members_under_18             object\n",
       "migration_reg                       object\n",
       "country_mother                      object\n",
       "country_self                        object\n",
       "citizenship                         object\n",
       "fill_questionnaire_veteran_admin    object\n",
       "migration_sunbelt                   object\n",
       "migration_msa                       object\n",
       "region_of_previous_residence        object\n",
       "d_household_family_stat             object\n",
       "class_of_worker                     object\n",
       "education                           object\n",
       "enrolled_in_edu_inst_lastwk         object\n",
       "marital_status                      object\n",
       "major_industry_code                 object\n",
       "major_occupation_code               object\n",
       "d_household_summary                 object\n",
       "race                                object\n",
       "sex                                 object\n",
       "member_of_labor_union               object\n",
       "reason_for_unemployment             object\n",
       "full_parttime_employment_stat       object\n",
       "tax_filer_status                    object\n",
       "state_of_previous_residence         object\n",
       "hispanic_origin                     object\n",
       "income_level                        object\n",
       "dtype: object"
      ]
     },
     "execution_count": 11,
     "metadata": {},
     "output_type": "execute_result"
    }
   ],
   "source": [
    "test_df.dtypes.sort_values()"
   ]
  },
  {
   "cell_type": "code",
   "execution_count": 12,
   "metadata": {
    "collapsed": false
   },
   "outputs": [
    {
     "name": "stdout",
     "output_type": "stream",
     "text": [
      "<class 'pandas.core.frame.DataFrame'>\n",
      "Int64Index: 99762 entries, 0 to 99761\n",
      "Data columns (total 41 columns):\n",
      "age                                 99762 non-null int64\n",
      "class_of_worker                     99762 non-null object\n",
      "industry_code                       99762 non-null int64\n",
      "occupation_code                     99762 non-null int64\n",
      "education                           99762 non-null object\n",
      "wage_per_hour                       99762 non-null int64\n",
      "enrolled_in_edu_inst_lastwk         99762 non-null object\n",
      "marital_status                      99762 non-null object\n",
      "major_industry_code                 99762 non-null object\n",
      "major_occupation_code               99762 non-null object\n",
      "race                                99762 non-null object\n",
      "hispanic_origin                     99762 non-null object\n",
      "sex                                 99762 non-null object\n",
      "member_of_labor_union               99762 non-null object\n",
      "reason_for_unemployment             99762 non-null object\n",
      "full_parttime_employment_stat       99762 non-null object\n",
      "capital_gains                       99762 non-null int64\n",
      "capital_losses                      99762 non-null int64\n",
      "dividend_from_Stocks                99762 non-null int64\n",
      "tax_filer_status                    99762 non-null object\n",
      "region_of_previous_residence        99762 non-null object\n",
      "state_of_previous_residence         99762 non-null object\n",
      "d_household_family_stat             99762 non-null object\n",
      "d_household_summary                 99762 non-null object\n",
      "migration_msa                       99762 non-null object\n",
      "migration_reg                       99762 non-null object\n",
      "migration_within_reg                99762 non-null object\n",
      "live_1_year_ago                     99762 non-null object\n",
      "migration_sunbelt                   99762 non-null object\n",
      "num_person_Worked_employer          99762 non-null int64\n",
      "family_members_under_18             99762 non-null object\n",
      "country_father                      99762 non-null object\n",
      "country_mother                      99762 non-null object\n",
      "country_self                        99762 non-null object\n",
      "citizenship                         99762 non-null object\n",
      "business_or_self_employed           99762 non-null int64\n",
      "fill_questionnaire_veteran_admin    99762 non-null object\n",
      "veterans_benefits                   99762 non-null int64\n",
      "weeks_worked_in_year                99762 non-null int64\n",
      "year                                99762 non-null int64\n",
      "income_level                        99762 non-null object\n",
      "dtypes: int64(12), object(29)\n",
      "memory usage: 32.0+ MB\n"
     ]
    }
   ],
   "source": [
    "test_df.dropna().info()"
   ]
  },
  {
   "cell_type": "code",
   "execution_count": 13,
   "metadata": {
    "collapsed": false
   },
   "outputs": [
    {
     "data": {
      "text/plain": [
       "migration_msa                       0.500328\n",
       "migration_reg                       0.500328\n",
       "migration_within_reg                0.500328\n",
       "migration_sunbelt                   0.500328\n",
       "country_father                      0.966355\n",
       "country_mother                      0.969332\n",
       "country_self                        0.982994\n",
       "hispanic_origin                     0.995620\n",
       "state_of_previous_residence         0.996452\n",
       "d_household_summary                 1.000000\n",
       "live_1_year_ago                     1.000000\n",
       "age                                 1.000000\n",
       "d_household_family_stat             1.000000\n",
       "citizenship                         1.000000\n",
       "business_or_self_employed           1.000000\n",
       "fill_questionnaire_veteran_admin    1.000000\n",
       "veterans_benefits                   1.000000\n",
       "weeks_worked_in_year                1.000000\n",
       "num_person_Worked_employer          1.000000\n",
       "family_members_under_18             1.000000\n",
       "region_of_previous_residence        1.000000\n",
       "tax_filer_status                    1.000000\n",
       "class_of_worker                     1.000000\n",
       "industry_code                       1.000000\n",
       "occupation_code                     1.000000\n",
       "education                           1.000000\n",
       "wage_per_hour                       1.000000\n",
       "enrolled_in_edu_inst_lastwk         1.000000\n",
       "marital_status                      1.000000\n",
       "major_industry_code                 1.000000\n",
       "major_occupation_code               1.000000\n",
       "race                                1.000000\n",
       "sex                                 1.000000\n",
       "member_of_labor_union               1.000000\n",
       "reason_for_unemployment             1.000000\n",
       "full_parttime_employment_stat       1.000000\n",
       "capital_gains                       1.000000\n",
       "capital_losses                      1.000000\n",
       "dividend_from_Stocks                1.000000\n",
       "year                                1.000000\n",
       "income_level                        1.000000\n",
       "dtype: float64"
      ]
     },
     "execution_count": 13,
     "metadata": {},
     "output_type": "execute_result"
    }
   ],
   "source": [
    "(train_df.count()/(train_df.count().max())).sort_values(ascending = True)"
   ]
  },
  {
   "cell_type": "code",
   "execution_count": 14,
   "metadata": {
    "collapsed": true
   },
   "outputs": [],
   "source": [
    "# following columns have lots of missing values\n",
    "# migration_msa                       0.500328\n",
    "# migration_reg                       0.500328\n",
    "# migration_within_reg                0.500328\n",
    "# migration_sunbelt                   0.500328"
   ]
  },
  {
   "cell_type": "code",
   "execution_count": 15,
   "metadata": {
    "collapsed": false
   },
   "outputs": [
    {
     "data": {
      "text/plain": [
       "age                                  int64\n",
       "weeks_worked_in_year                 int64\n",
       "veterans_benefits                    int64\n",
       "business_or_self_employed            int64\n",
       "num_person_Worked_employer           int64\n",
       "year                                 int64\n",
       "dividend_from_Stocks                 int64\n",
       "capital_losses                       int64\n",
       "capital_gains                        int64\n",
       "income_level                         int64\n",
       "industry_code                        int64\n",
       "occupation_code                      int64\n",
       "wage_per_hour                        int64\n",
       "race                                object\n",
       "class_of_worker                     object\n",
       "fill_questionnaire_veteran_admin    object\n",
       "citizenship                         object\n",
       "country_self                        object\n",
       "country_mother                      object\n",
       "country_father                      object\n",
       "family_members_under_18             object\n",
       "education                           object\n",
       "migration_sunbelt                   object\n",
       "live_1_year_ago                     object\n",
       "migration_within_reg                object\n",
       "migration_reg                       object\n",
       "migration_msa                       object\n",
       "d_household_summary                 object\n",
       "d_household_family_stat             object\n",
       "state_of_previous_residence         object\n",
       "tax_filer_status                    object\n",
       "enrolled_in_edu_inst_lastwk         object\n",
       "marital_status                      object\n",
       "major_industry_code                 object\n",
       "full_parttime_employment_stat       object\n",
       "reason_for_unemployment             object\n",
       "member_of_labor_union               object\n",
       "sex                                 object\n",
       "hispanic_origin                     object\n",
       "major_occupation_code               object\n",
       "region_of_previous_residence        object\n",
       "dtype: object"
      ]
     },
     "execution_count": 15,
     "metadata": {},
     "output_type": "execute_result"
    }
   ],
   "source": [
    "train_df.dtypes.sort_values()"
   ]
  },
  {
   "cell_type": "code",
   "execution_count": 16,
   "metadata": {
    "collapsed": false
   },
   "outputs": [
    {
     "data": {
      "text/plain": [
       "0.47343915237842255"
      ]
     },
     "execution_count": 16,
     "metadata": {},
     "output_type": "execute_result"
    }
   ],
   "source": [
    "# can't simply drop na's; losing more than half of all rows\n",
    "len(train_df.dropna())/float(len(train_df))"
   ]
  },
  {
   "cell_type": "markdown",
   "metadata": {},
   "source": [
    "#### distribution of target variable (very biased)"
   ]
  },
  {
   "cell_type": "code",
   "execution_count": 17,
   "metadata": {
    "collapsed": false
   },
   "outputs": [],
   "source": [
    "train_df.income_level = train_df.income_level.apply(lambda x: 0 if x == -50000 else 1)\n",
    "test_df.income_level = test_df.income_level.apply(lambda x: 0 if x == '-50000' else 1)"
   ]
  },
  {
   "cell_type": "code",
   "execution_count": 18,
   "metadata": {
    "collapsed": false
   },
   "outputs": [],
   "source": [
    "a = train_df.income_level.value_counts()\n",
    "b = test_df.income_level.value_counts()"
   ]
  },
  {
   "cell_type": "code",
   "execution_count": 19,
   "metadata": {
    "collapsed": false
   },
   "outputs": [
    {
     "data": {
      "text/plain": [
       "0    0.937942\n",
       "1    0.062058\n",
       "Name: income_level, dtype: float64"
      ]
     },
     "execution_count": 19,
     "metadata": {},
     "output_type": "execute_result"
    }
   ],
   "source": [
    "a/a.sum()"
   ]
  },
  {
   "cell_type": "code",
   "execution_count": 20,
   "metadata": {
    "collapsed": false
   },
   "outputs": [
    {
     "data": {
      "text/plain": [
       "0    0.937992\n",
       "1    0.062008\n",
       "Name: income_level, dtype: float64"
      ]
     },
     "execution_count": 20,
     "metadata": {},
     "output_type": "execute_result"
    }
   ],
   "source": [
    "b/b.sum()"
   ]
  },
  {
   "cell_type": "code",
   "execution_count": null,
   "metadata": {
    "collapsed": true
   },
   "outputs": [],
   "source": []
  },
  {
   "cell_type": "markdown",
   "metadata": {},
   "source": [
    "#### plotting"
   ]
  },
  {
   "cell_type": "code",
   "execution_count": 21,
   "metadata": {
    "collapsed": true
   },
   "outputs": [],
   "source": [
    "# 1. a histogram overlapped with density curve. then apply num variables; Use R code"
   ]
  },
  {
   "cell_type": "code",
   "execution_count": 22,
   "metadata": {
    "collapsed": true
   },
   "outputs": [],
   "source": [
    "# 2. scatter plot (How to separate different classes?)"
   ]
  },
  {
   "cell_type": "code",
   "execution_count": 23,
   "metadata": {
    "collapsed": false
   },
   "outputs": [
    {
     "data": {
      "text/plain": [
       "<matplotlib.text.Text at 0x7fe7132ef9d0>"
      ]
     },
     "execution_count": 23,
     "metadata": {},
     "output_type": "execute_result"
    },
    {
     "data": {
      "image/png": "[encoded data removed]",
      "text/plain": [
       "<matplotlib.figure.Figure at 0x7fe7132d6210>"
      ]
     },
     "metadata": {},
     "output_type": "display_data"
    }
   ],
   "source": [
    "import matplotlib.pyplot as plt\n",
    "# Setup matplotlib to display in notebook:\n",
    "%matplotlib inline\n",
    "\n",
    "plt.scatter(train_df.age, train_df.wage_per_hour)\n",
    "\n",
    "plt.legend(fontsize=10)\n",
    "plt.xticks(fontsize = 20)\n",
    "plt.title('age vs. wage_per_hour', fontsize = 20)\n",
    "ax = plt.gca()\n",
    "handles, labels = ax.get_legend_handles_labels()\n",
    "ax.legend(handles, labels)\n",
    "ax.legend(loc = \"upper left\", fontsize = 14)\n",
    "ax.set_ylabel(\"wage/hour\", fontsize = 20)\n",
    "ax.set_xlabel('age', fontsize = 20)"
   ]
  },
  {
   "cell_type": "code",
   "execution_count": 24,
   "metadata": {
    "collapsed": false
   },
   "outputs": [
    {
     "data": {
      "text/plain": [
       "<seaborn.axisgrid.PairGrid at 0x7fe71dd9c090>"
      ]
     },
     "execution_count": 24,
     "metadata": {},
     "output_type": "execute_result"
    },
    {
     "data": {
      "image/png": "[encoded data removed]",
      "text/plain": [
       "<matplotlib.figure.Figure at 0x7fe7091d3050>"
      ]
     },
     "metadata": {},
     "output_type": "display_data"
    }
   ],
   "source": [
    "import seaborn as sns\n",
    "sns.pairplot(train_df[['age', 'wage_per_hour']])"
   ]
  },
  {
   "cell_type": "code",
   "execution_count": 25,
   "metadata": {
    "collapsed": false
   },
   "outputs": [
    {
     "data": {
      "text/plain": [
       "[<matplotlib.text.Text at 0x7fe708915210>,\n",
       " <matplotlib.text.Text at 0x7fe7088ab510>,\n",
       " <matplotlib.text.Text at 0x7fe70884bf10>,\n",
       " <matplotlib.text.Text at 0x7fe7087d76d0>,\n",
       " <matplotlib.text.Text at 0x7fe7087d7e50>,\n",
       " <matplotlib.text.Text at 0x7fe7087e3610>,\n",
       " <matplotlib.text.Text at 0x7fe7087e3d90>,\n",
       " <matplotlib.text.Text at 0x7fe7087eb550>,\n",
       " <matplotlib.text.Text at 0x7fe7087ebcd0>]"
      ]
     },
     "execution_count": 25,
     "metadata": {},
     "output_type": "execute_result"
    },
    {
     "data": {
      "image/png": "[encoded data removed]",
      "text/plain": [
       "<matplotlib.figure.Figure at 0x7fe7089564d0>"
      ]
     },
     "metadata": {},
     "output_type": "display_data"
    }
   ],
   "source": [
    "ax = sns.countplot(x=\"class_of_worker\", hue=\"income_level\", data=train_df)\n",
    "ax.set_xticklabels(train_df.class_of_worker,rotation=30)"
   ]
  },
  {
   "cell_type": "code",
   "execution_count": 26,
   "metadata": {
    "collapsed": false
   },
   "outputs": [
    {
     "data": {
      "text/plain": [
       "[<matplotlib.text.Text at 0x7fe708ac3dd0>,\n",
       " <matplotlib.text.Text at 0x7fe7087bb790>,\n",
       " <matplotlib.text.Text at 0x7fe7086b1b10>,\n",
       " <matplotlib.text.Text at 0x7fe7086bc2d0>,\n",
       " <matplotlib.text.Text at 0x7fe7086bca50>,\n",
       " <matplotlib.text.Text at 0x7fe7086c9210>,\n",
       " <matplotlib.text.Text at 0x7fe7086c9990>,\n",
       " <matplotlib.text.Text at 0x7fe7086d1150>,\n",
       " <matplotlib.text.Text at 0x7fe7086d18d0>,\n",
       " <matplotlib.text.Text at 0x7fe7088fbc10>,\n",
       " <matplotlib.text.Text at 0x7fe708ca7d10>,\n",
       " <matplotlib.text.Text at 0x7fe70865a410>,\n",
       " <matplotlib.text.Text at 0x7fe70865ab90>,\n",
       " <matplotlib.text.Text at 0x7fe708665350>,\n",
       " <matplotlib.text.Text at 0x7fe708665ad0>,\n",
       " <matplotlib.text.Text at 0x7fe70866f290>,\n",
       " <matplotlib.text.Text at 0x7fe70866fa10>]"
      ]
     },
     "execution_count": 26,
     "metadata": {},
     "output_type": "execute_result"
    },
    {
     "data": {
      "image/png": "[encoded data removed]",
      "text/plain": [
       "<matplotlib.figure.Figure at 0x7fe708823750>"
      ]
     },
     "metadata": {},
     "output_type": "display_data"
    }
   ],
   "source": [
    "ax = sns.countplot(x=\"education\", hue=\"income_level\", data=train_df)\n",
    "ax.set_xticklabels(train_df.education,rotation=30)"
   ]
  },
  {
   "cell_type": "code",
   "execution_count": null,
   "metadata": {
    "collapsed": true
   },
   "outputs": [],
   "source": []
  },
  {
   "cell_type": "markdown",
   "metadata": {},
   "source": [
    "## Data Cleansing"
   ]
  },
  {
   "cell_type": "code",
   "execution_count": 27,
   "metadata": {
    "collapsed": true
   },
   "outputs": [],
   "source": [
    "num_train = train_df._get_numeric_data()\n",
    "num_test = test_df._get_numeric_data()"
   ]
  },
  {
   "cell_type": "code",
   "execution_count": 28,
   "metadata": {
    "collapsed": false
   },
   "outputs": [
    {
     "data": {
      "text/plain": [
       "(99762, 13)"
      ]
     },
     "execution_count": 28,
     "metadata": {},
     "output_type": "execute_result"
    }
   ],
   "source": [
    "num_test.shape"
   ]
  },
  {
   "cell_type": "code",
   "execution_count": 29,
   "metadata": {
    "collapsed": false
   },
   "outputs": [
    {
     "data": {
      "text/plain": [
       "occupation_code               0.013414\n",
       "year                          0.014794\n",
       "wage_per_hour                 0.024528\n",
       "business_or_self_employed     0.040473\n",
       "age                           0.135720\n",
       "veterans_benefits             0.140930\n",
       "capital_losses                0.147417\n",
       "dividend_from_Stocks          0.175779\n",
       "industry_code                 0.196190\n",
       "num_person_Worked_employer    0.222684\n",
       "capital_gains                 0.240725\n",
       "weeks_worked_in_year          0.262316\n",
       "income_level                  1.000000\n",
       "Name: income_level, dtype: float64"
      ]
     },
     "execution_count": 29,
     "metadata": {},
     "output_type": "execute_result"
    }
   ],
   "source": [
    "num_train.corr()['income_level'].sort_values()"
   ]
  },
  {
   "cell_type": "code",
   "execution_count": 30,
   "metadata": {
    "collapsed": false
   },
   "outputs": [
    {
     "data": {
      "text/plain": [
       "occupation_code               0.014418\n",
       "year                          0.019117\n",
       "wage_per_hour                 0.020252\n",
       "business_or_self_employed     0.043012\n",
       "age                           0.137499\n",
       "veterans_benefits             0.139473\n",
       "capital_losses                0.147539\n",
       "dividend_from_Stocks          0.184578\n",
       "industry_code                 0.194715\n",
       "num_person_Worked_employer    0.227078\n",
       "capital_gains                 0.239709\n",
       "weeks_worked_in_year          0.262054\n",
       "income_level                  1.000000\n",
       "Name: income_level, dtype: float64"
      ]
     },
     "execution_count": 30,
     "metadata": {},
     "output_type": "execute_result"
    }
   ],
   "source": [
    "num_test.corr()['income_level'].sort_values()"
   ]
  },
  {
   "cell_type": "markdown",
   "metadata": {},
   "source": [
    "### Remove the column weeks_worked_in_year?"
   ]
  },
  {
   "cell_type": "code",
   "execution_count": 31,
   "metadata": {
    "collapsed": false
   },
   "outputs": [],
   "source": [
    "cat_test = test_df[list(set(test_df.columns.values) - set(num_test.columns.values))]"
   ]
  },
  {
   "cell_type": "code",
   "execution_count": 32,
   "metadata": {
    "collapsed": true
   },
   "outputs": [],
   "source": [
    "cat_train = train_df[list(set(train_df.columns.values) - set(num_train.columns.values))]"
   ]
  },
  {
   "cell_type": "code",
   "execution_count": 33,
   "metadata": {
    "collapsed": false
   },
   "outputs": [
    {
     "data": {
      "text/plain": [
       "(199523, 28)"
      ]
     },
     "execution_count": 33,
     "metadata": {},
     "output_type": "execute_result"
    }
   ],
   "source": [
    "cat_train.shape"
   ]
  },
  {
   "cell_type": "code",
   "execution_count": 34,
   "metadata": {
    "collapsed": false
   },
   "outputs": [
    {
     "data": {
      "text/plain": [
       "(99762, 28)"
      ]
     },
     "execution_count": 34,
     "metadata": {},
     "output_type": "execute_result"
    }
   ],
   "source": [
    "cat_test.shape"
   ]
  },
  {
   "cell_type": "markdown",
   "metadata": {},
   "source": [
    "#### Again, only missing values are the columns in cat_train\n"
   ]
  },
  {
   "cell_type": "markdown",
   "metadata": {},
   "source": [
    "#### Remove them for now, come back later for imputation"
   ]
  },
  {
   "cell_type": "code",
   "execution_count": 35,
   "metadata": {
    "collapsed": true
   },
   "outputs": [
    {
     "data": {
      "text/plain": [
       "migration_sunbelt                   1.0\n",
       "region_of_previous_residence        1.0\n",
       "fill_questionnaire_veteran_admin    1.0\n",
       "race                                1.0\n",
       "class_of_worker                     1.0\n",
       "major_occupation_code               1.0\n",
       "state_of_previous_residence         1.0\n",
       "marital_status                      1.0\n",
       "country_father                      1.0\n",
       "country_self                        1.0\n",
       "tax_filer_status                    1.0\n",
       "reason_for_unemployment             1.0\n",
       "migration_within_reg                1.0\n",
       "migration_reg                       1.0\n",
       "hispanic_origin                     1.0\n",
       "major_industry_code                 1.0\n",
       "member_of_labor_union               1.0\n",
       "country_mother                      1.0\n",
       "migration_msa                       1.0\n",
       "d_household_summary                 1.0\n",
       "live_1_year_ago                     1.0\n",
       "enrolled_in_edu_inst_lastwk         1.0\n",
       "education                           1.0\n",
       "full_parttime_employment_stat       1.0\n",
       "sex                                 1.0\n",
       "citizenship                         1.0\n",
       "family_members_under_18             1.0\n",
       "d_household_family_stat             1.0\n",
       "dtype: float64"
      ]
     },
     "execution_count": 35,
     "metadata": {},
     "output_type": "execute_result"
    }
   ],
   "source": [
    "(cat_test.count()/(cat_test.count().max())).sort_values(ascending = True)"
   ]
  },
  {
   "cell_type": "code",
   "execution_count": 37,
   "metadata": {
    "collapsed": true
   },
   "outputs": [
    {
     "data": {
      "text/plain": [
       "migration_reg                       0.499672\n",
       "migration_within_reg                0.499672\n",
       "migration_msa                       0.499672\n",
       "migration_sunbelt                   0.499672\n",
       "country_father                      0.033645\n",
       "country_mother                      0.030668\n",
       "country_self                        0.017006\n",
       "hispanic_origin                     0.004380\n",
       "state_of_previous_residence         0.003548\n",
       "race                                0.000000\n",
       "citizenship                         0.000000\n",
       "sex                                 0.000000\n",
       "full_parttime_employment_stat       0.000000\n",
       "education                           0.000000\n",
       "enrolled_in_edu_inst_lastwk         0.000000\n",
       "live_1_year_ago                     0.000000\n",
       "d_household_summary                 0.000000\n",
       "region_of_previous_residence        0.000000\n",
       "major_industry_code                 0.000000\n",
       "member_of_labor_union               0.000000\n",
       "class_of_worker                     0.000000\n",
       "family_members_under_18             0.000000\n",
       "fill_questionnaire_veteran_admin    0.000000\n",
       "reason_for_unemployment             0.000000\n",
       "tax_filer_status                    0.000000\n",
       "marital_status                      0.000000\n",
       "major_occupation_code               0.000000\n",
       "d_household_family_stat             0.000000\n",
       "dtype: float64"
      ]
     },
     "execution_count": 37,
     "metadata": {},
     "output_type": "execute_result"
    }
   ],
   "source": [
    "(1- cat_train.count()/(cat_train.count().max())).sort_values(ascending = False)"
   ]
  },
  {
   "cell_type": "code",
   "execution_count": 172,
   "metadata": {
    "collapsed": true
   },
   "outputs": [],
   "source": [
    "cat_train = cat_train[list(set(cat_train.columns.values) - set ([\"migration_sunbelt\", \"migration_within_reg\", \"migration_msa\", \"migration_reg\"]))]"
   ]
  },
  {
   "cell_type": "code",
   "execution_count": 107,
   "metadata": {
    "collapsed": true
   },
   "outputs": [],
   "source": [
    "cat_test = cat_test[list(set(cat_test.columns.values) - set ([\"migration_sunbelt\", \"migration_within_reg\", \"migration_msa\", \"migration_reg\"]))]"
   ]
  },
  {
   "cell_type": "code",
   "execution_count": null,
   "metadata": {
    "collapsed": true
   },
   "outputs": [],
   "source": []
  },
  {
   "cell_type": "markdown",
   "metadata": {},
   "source": [
    "#### Change the other missing values from float.nan to 'unavailable'"
   ]
  },
  {
   "cell_type": "code",
   "execution_count": 144,
   "metadata": {
    "collapsed": true
   },
   "outputs": [],
   "source": [
    "import numpy as np\n",
    "import math"
   ]
  },
  {
   "cell_type": "code",
   "execution_count": 173,
   "metadata": {
    "collapsed": true
   },
   "outputs": [
    {
     "data": {
      "text/plain": [
       "country_father                      0.966355\n",
       "country_mother                      0.969332\n",
       "country_self                        0.982994\n",
       "hispanic_origin                     0.995620\n",
       "state_of_previous_residence         0.996452\n",
       "citizenship                         1.000000\n",
       "region_of_previous_residence        1.000000\n",
       "fill_questionnaire_veteran_admin    1.000000\n",
       "race                                1.000000\n",
       "class_of_worker                     1.000000\n",
       "major_occupation_code               1.000000\n",
       "marital_status                      1.000000\n",
       "reason_for_unemployment             1.000000\n",
       "family_members_under_18             1.000000\n",
       "major_industry_code                 1.000000\n",
       "member_of_labor_union               1.000000\n",
       "d_household_summary                 1.000000\n",
       "live_1_year_ago                     1.000000\n",
       "enrolled_in_edu_inst_lastwk         1.000000\n",
       "education                           1.000000\n",
       "full_parttime_employment_stat       1.000000\n",
       "sex                                 1.000000\n",
       "tax_filer_status                    1.000000\n",
       "d_household_family_stat             1.000000\n",
       "dtype: float64"
      ]
     },
     "execution_count": 173,
     "metadata": {},
     "output_type": "execute_result"
    }
   ],
   "source": [
    "(cat_train.count()/(cat_train.count().max())).sort_values(ascending = True)"
   ]
  },
  {
   "cell_type": "code",
   "execution_count": 153,
   "metadata": {
    "collapsed": true
   },
   "outputs": [
    {
     "data": {
      "text/plain": [
       "70        NaN\n",
       "205       NaN\n",
       "246       NaN\n",
       "384       NaN\n",
       "790       NaN\n",
       "882       NaN\n",
       "1271      NaN\n",
       "1322      NaN\n",
       "1364      NaN\n",
       "1638      NaN\n",
       "2251      NaN\n",
       "2882      NaN\n",
       "3392      NaN\n",
       "3409      NaN\n",
       "3428      NaN\n",
       "3516      NaN\n",
       "3519      NaN\n",
       "3632      NaN\n",
       "3769      NaN\n",
       "4266      NaN\n",
       "4396      NaN\n",
       "4538      NaN\n",
       "4691      NaN\n",
       "4759      NaN\n",
       "5292      NaN\n",
       "5382      NaN\n",
       "5520      NaN\n",
       "5684      NaN\n",
       "5832      NaN\n",
       "6565      NaN\n",
       "         ... \n",
       "192091    NaN\n",
       "192211    NaN\n",
       "192473    NaN\n",
       "192531    NaN\n",
       "193343    NaN\n",
       "193751    NaN\n",
       "194531    NaN\n",
       "194683    NaN\n",
       "194708    NaN\n",
       "194751    NaN\n",
       "194752    NaN\n",
       "195217    NaN\n",
       "195307    NaN\n",
       "195802    NaN\n",
       "195886    NaN\n",
       "196126    NaN\n",
       "196590    NaN\n",
       "196836    NaN\n",
       "197357    NaN\n",
       "197788    NaN\n",
       "197928    NaN\n",
       "198425    NaN\n",
       "198514    NaN\n",
       "198910    NaN\n",
       "198948    NaN\n",
       "199026    NaN\n",
       "199042    NaN\n",
       "199189    NaN\n",
       "199242    NaN\n",
       "199360    NaN\n",
       "Name: state_of_previous_residence, dtype: object"
      ]
     },
     "execution_count": 153,
     "metadata": {},
     "output_type": "execute_result"
    }
   ],
   "source": [
    "cat_train.state_of_previous_residence[cat_train.state_of_previous_residence.isnull()]"
   ]
  },
  {
   "cell_type": "code",
   "execution_count": 179,
   "metadata": {
    "collapsed": false
   },
   "outputs": [],
   "source": [
    "cat_train.state_of_previous_residence = cat_train.state_of_previous_residence.apply(lambda x: 'unavailable' if x.__class__.__name__ == 'float' else x)\n",
    "cat_train.hispanic_origin = cat_train.hispanic_origin.apply(lambda x: 'unavailable' if x.__class__.__name__ == 'float' else x)\n",
    "cat_train.country_self = cat_train.country_self.apply(lambda x: 'unavailable' if x.__class__.__name__ == 'float' else x)\n",
    "cat_train.country_mother = cat_train.country_mother.apply(lambda x: 'unavailable' if x.__class__.__name__ == 'float' else x)\n",
    "cat_train.country_father = cat_train.country_father.apply(lambda x: 'unavailable' if x.__class__.__name__ == 'float' else x)"
   ]
  },
  {
   "cell_type": "code",
   "execution_count": 180,
   "metadata": {
    "collapsed": true
   },
   "outputs": [
    {
     "data": {
      "text/plain": [
       "citizenship                         1.0\n",
       "region_of_previous_residence        1.0\n",
       "fill_questionnaire_veteran_admin    1.0\n",
       "race                                1.0\n",
       "class_of_worker                     1.0\n",
       "major_occupation_code               1.0\n",
       "state_of_previous_residence         1.0\n",
       "marital_status                      1.0\n",
       "country_father                      1.0\n",
       "country_self                        1.0\n",
       "tax_filer_status                    1.0\n",
       "reason_for_unemployment             1.0\n",
       "hispanic_origin                     1.0\n",
       "major_industry_code                 1.0\n",
       "member_of_labor_union               1.0\n",
       "country_mother                      1.0\n",
       "d_household_summary                 1.0\n",
       "live_1_year_ago                     1.0\n",
       "enrolled_in_edu_inst_lastwk         1.0\n",
       "education                           1.0\n",
       "full_parttime_employment_stat       1.0\n",
       "sex                                 1.0\n",
       "family_members_under_18             1.0\n",
       "d_household_family_stat             1.0\n",
       "dtype: float64"
      ]
     },
     "execution_count": 180,
     "metadata": {},
     "output_type": "execute_result"
    }
   ],
   "source": [
    "(cat_train.count()/(cat_train.count().max())).sort_values(ascending = True)"
   ]
  },
  {
   "cell_type": "code",
   "execution_count": 181,
   "metadata": {
    "collapsed": false
   },
   "outputs": [
    {
     "data": {
      "text/html": [
       "<div>\n",
       "<table border=\"1\" class=\"dataframe\">\n",
       "  <thead>\n",
       "    <tr style=\"text-align: right;\">\n",
       "      <th></th>\n",
       "      <th>citizenship</th>\n",
       "      <th>sex</th>\n",
       "      <th>full_parttime_employment_stat</th>\n",
       "      <th>education</th>\n",
       "      <th>enrolled_in_edu_inst_lastwk</th>\n",
       "      <th>live_1_year_ago</th>\n",
       "      <th>d_household_summary</th>\n",
       "      <th>country_mother</th>\n",
       "      <th>member_of_labor_union</th>\n",
       "      <th>major_industry_code</th>\n",
       "      <th>...</th>\n",
       "      <th>country_father</th>\n",
       "      <th>marital_status</th>\n",
       "      <th>state_of_previous_residence</th>\n",
       "      <th>major_occupation_code</th>\n",
       "      <th>class_of_worker</th>\n",
       "      <th>race</th>\n",
       "      <th>fill_questionnaire_veteran_admin</th>\n",
       "      <th>region_of_previous_residence</th>\n",
       "      <th>family_members_under_18</th>\n",
       "      <th>d_household_family_stat</th>\n",
       "    </tr>\n",
       "  </thead>\n",
       "  <tbody>\n",
       "    <tr>\n",
       "      <th>0</th>\n",
       "      <td>Native- Born in the United States</td>\n",
       "      <td>Female</td>\n",
       "      <td>Not in labor force</td>\n",
       "      <td>High school graduate</td>\n",
       "      <td>Not in universe</td>\n",
       "      <td>Not in universe under 1 year old</td>\n",
       "      <td>Other relative of householder</td>\n",
       "      <td>United-States</td>\n",
       "      <td>Not in universe</td>\n",
       "      <td>Not in universe or children</td>\n",
       "      <td>...</td>\n",
       "      <td>United-States</td>\n",
       "      <td>Widowed</td>\n",
       "      <td>Not in universe</td>\n",
       "      <td>Not in universe</td>\n",
       "      <td>Not in universe</td>\n",
       "      <td>White</td>\n",
       "      <td>Not in universe</td>\n",
       "      <td>Not in universe</td>\n",
       "      <td>Not in universe</td>\n",
       "      <td>Other Rel 18+ ever marr not in subfamily</td>\n",
       "    </tr>\n",
       "    <tr>\n",
       "      <th>1</th>\n",
       "      <td>Native- Born in the United States</td>\n",
       "      <td>Male</td>\n",
       "      <td>Children or Armed Forces</td>\n",
       "      <td>Some college but no degree</td>\n",
       "      <td>Not in universe</td>\n",
       "      <td>No</td>\n",
       "      <td>Householder</td>\n",
       "      <td>United-States</td>\n",
       "      <td>Not in universe</td>\n",
       "      <td>Construction</td>\n",
       "      <td>...</td>\n",
       "      <td>United-States</td>\n",
       "      <td>Divorced</td>\n",
       "      <td>Arkansas</td>\n",
       "      <td>Precision production craft &amp; repair</td>\n",
       "      <td>Self-employed-not incorporated</td>\n",
       "      <td>White</td>\n",
       "      <td>Not in universe</td>\n",
       "      <td>South</td>\n",
       "      <td>Not in universe</td>\n",
       "      <td>Householder</td>\n",
       "    </tr>\n",
       "    <tr>\n",
       "      <th>2</th>\n",
       "      <td>Foreign born- Not a citizen of U S</td>\n",
       "      <td>Female</td>\n",
       "      <td>Not in labor force</td>\n",
       "      <td>10th grade</td>\n",
       "      <td>High school</td>\n",
       "      <td>Not in universe under 1 year old</td>\n",
       "      <td>Child 18 or older</td>\n",
       "      <td>Vietnam</td>\n",
       "      <td>Not in universe</td>\n",
       "      <td>Not in universe or children</td>\n",
       "      <td>...</td>\n",
       "      <td>Vietnam</td>\n",
       "      <td>Never married</td>\n",
       "      <td>Not in universe</td>\n",
       "      <td>Not in universe</td>\n",
       "      <td>Not in universe</td>\n",
       "      <td>Asian or Pacific Islander</td>\n",
       "      <td>Not in universe</td>\n",
       "      <td>Not in universe</td>\n",
       "      <td>Not in universe</td>\n",
       "      <td>Child 18+ never marr Not in a subfamily</td>\n",
       "    </tr>\n",
       "    <tr>\n",
       "      <th>3</th>\n",
       "      <td>Native- Born in the United States</td>\n",
       "      <td>Female</td>\n",
       "      <td>Children or Armed Forces</td>\n",
       "      <td>Children</td>\n",
       "      <td>Not in universe</td>\n",
       "      <td>Yes</td>\n",
       "      <td>Child under 18 never married</td>\n",
       "      <td>United-States</td>\n",
       "      <td>Not in universe</td>\n",
       "      <td>Not in universe or children</td>\n",
       "      <td>...</td>\n",
       "      <td>United-States</td>\n",
       "      <td>Never married</td>\n",
       "      <td>Not in universe</td>\n",
       "      <td>Not in universe</td>\n",
       "      <td>Not in universe</td>\n",
       "      <td>White</td>\n",
       "      <td>Not in universe</td>\n",
       "      <td>Not in universe</td>\n",
       "      <td>Both parents present</td>\n",
       "      <td>Child &lt;18 never marr not in subfamily</td>\n",
       "    </tr>\n",
       "    <tr>\n",
       "      <th>4</th>\n",
       "      <td>Native- Born in the United States</td>\n",
       "      <td>Female</td>\n",
       "      <td>Children or Armed Forces</td>\n",
       "      <td>Children</td>\n",
       "      <td>Not in universe</td>\n",
       "      <td>Yes</td>\n",
       "      <td>Child under 18 never married</td>\n",
       "      <td>United-States</td>\n",
       "      <td>Not in universe</td>\n",
       "      <td>Not in universe or children</td>\n",
       "      <td>...</td>\n",
       "      <td>United-States</td>\n",
       "      <td>Never married</td>\n",
       "      <td>Not in universe</td>\n",
       "      <td>Not in universe</td>\n",
       "      <td>Not in universe</td>\n",
       "      <td>White</td>\n",
       "      <td>Not in universe</td>\n",
       "      <td>Not in universe</td>\n",
       "      <td>Both parents present</td>\n",
       "      <td>Child &lt;18 never marr not in subfamily</td>\n",
       "    </tr>\n",
       "  </tbody>\n",
       "</table>\n",
       "<p>5 rows × 24 columns</p>\n",
       "</div>"
      ],
      "text/plain": [
       "                          citizenship     sex full_parttime_employment_stat  \\\n",
       "0   Native- Born in the United States  Female            Not in labor force   \n",
       "1   Native- Born in the United States    Male      Children or Armed Forces   \n",
       "2  Foreign born- Not a citizen of U S  Female            Not in labor force   \n",
       "3   Native- Born in the United States  Female      Children or Armed Forces   \n",
       "4   Native- Born in the United States  Female      Children or Armed Forces   \n",
       "\n",
       "                    education enrolled_in_edu_inst_lastwk  \\\n",
       "0        High school graduate             Not in universe   \n",
       "1  Some college but no degree             Not in universe   \n",
       "2                  10th grade                 High school   \n",
       "3                    Children             Not in universe   \n",
       "4                    Children             Not in universe   \n",
       "\n",
       "                    live_1_year_ago            d_household_summary  \\\n",
       "0  Not in universe under 1 year old  Other relative of householder   \n",
       "1                                No                    Householder   \n",
       "2  Not in universe under 1 year old              Child 18 or older   \n",
       "3                               Yes   Child under 18 never married   \n",
       "4                               Yes   Child under 18 never married   \n",
       "\n",
       "  country_mother member_of_labor_union          major_industry_code  \\\n",
       "0  United-States       Not in universe  Not in universe or children   \n",
       "1  United-States       Not in universe                 Construction   \n",
       "2        Vietnam       Not in universe  Not in universe or children   \n",
       "3  United-States       Not in universe  Not in universe or children   \n",
       "4  United-States       Not in universe  Not in universe or children   \n",
       "\n",
       "                     ...                    country_father marital_status  \\\n",
       "0                    ...                     United-States        Widowed   \n",
       "1                    ...                     United-States       Divorced   \n",
       "2                    ...                           Vietnam  Never married   \n",
       "3                    ...                     United-States  Never married   \n",
       "4                    ...                     United-States  Never married   \n",
       "\n",
       "  state_of_previous_residence                major_occupation_code  \\\n",
       "0             Not in universe                      Not in universe   \n",
       "1                    Arkansas  Precision production craft & repair   \n",
       "2             Not in universe                      Not in universe   \n",
       "3             Not in universe                      Not in universe   \n",
       "4             Not in universe                      Not in universe   \n",
       "\n",
       "                  class_of_worker                       race  \\\n",
       "0                 Not in universe                      White   \n",
       "1  Self-employed-not incorporated                      White   \n",
       "2                 Not in universe  Asian or Pacific Islander   \n",
       "3                 Not in universe                      White   \n",
       "4                 Not in universe                      White   \n",
       "\n",
       "  fill_questionnaire_veteran_admin region_of_previous_residence  \\\n",
       "0                  Not in universe              Not in universe   \n",
       "1                  Not in universe                        South   \n",
       "2                  Not in universe              Not in universe   \n",
       "3                  Not in universe              Not in universe   \n",
       "4                  Not in universe              Not in universe   \n",
       "\n",
       "  family_members_under_18                   d_household_family_stat  \n",
       "0         Not in universe  Other Rel 18+ ever marr not in subfamily  \n",
       "1         Not in universe                               Householder  \n",
       "2         Not in universe   Child 18+ never marr Not in a subfamily  \n",
       "3    Both parents present     Child <18 never marr not in subfamily  \n",
       "4    Both parents present     Child <18 never marr not in subfamily  \n",
       "\n",
       "[5 rows x 24 columns]"
      ]
     },
     "execution_count": 181,
     "metadata": {},
     "output_type": "execute_result"
    }
   ],
   "source": [
    "cat_train.head()"
   ]
  },
  {
   "cell_type": "code",
   "execution_count": null,
   "metadata": {
    "collapsed": true
   },
   "outputs": [],
   "source": []
  },
  {
   "cell_type": "markdown",
   "metadata": {},
   "source": [
    "### Combined the values in categorical columns that has counts < 5% ???\n",
    "### If so, make sure you do the same to the Test dataset"
   ]
  },
  {
   "cell_type": "code",
   "execution_count": null,
   "metadata": {
    "collapsed": true
   },
   "outputs": [],
   "source": []
  },
  {
   "cell_type": "code",
   "execution_count": null,
   "metadata": {
    "collapsed": true
   },
   "outputs": [],
   "source": []
  },
  {
   "cell_type": "code",
   "execution_count": null,
   "metadata": {
    "collapsed": true
   },
   "outputs": [],
   "source": []
  },
  {
   "cell_type": "code",
   "execution_count": null,
   "metadata": {
    "collapsed": true
   },
   "outputs": [],
   "source": []
  },
  {
   "cell_type": "code",
   "execution_count": null,
   "metadata": {
    "collapsed": true
   },
   "outputs": [],
   "source": []
  },
  {
   "cell_type": "code",
   "execution_count": null,
   "metadata": {
    "collapsed": true
   },
   "outputs": [],
   "source": []
  },
  {
   "cell_type": "code",
   "execution_count": null,
   "metadata": {
    "collapsed": true
   },
   "outputs": [],
   "source": []
  },
  {
   "cell_type": "code",
   "execution_count": null,
   "metadata": {
    "collapsed": true
   },
   "outputs": [],
   "source": []
  },
  {
   "cell_type": "code",
   "execution_count": null,
   "metadata": {
    "collapsed": true
   },
   "outputs": [],
   "source": []
  },
  {
   "cell_type": "code",
   "execution_count": 1,
   "metadata": {
    "collapsed": true
   },
   "outputs": [],
   "source": [
    "from sklearn.metrics import classification_report, confusion_matrix, accuracy_score\n",
    "from sklearn.cross_validation import train_test_split, StratifiedShuffleSplit\n",
    "from sklearn.linear_model import LogisticRegression, LogisticRegressionCV\n",
    "from sklearn.grid_search import GridSearchCV\n",
    "from sklearn.metrics import roc_curve, auc\n",
    "import statsmodels.api as sm\n",
    "import pandas as pd\n",
    "import numpy as np\n",
    "import matplotlib.pyplot as plt\n",
    "%matplotlib inline\n",
    "from sklearn.metrics import roc_auc_score"
   ]
  },
  {
   "cell_type": "code",
   "execution_count": 2,
   "metadata": {
    "collapsed": false
   },
   "outputs": [],
   "source": [
    "orig_df = pd.read_csv(\"census_orig.csv\")\n",
    "rose_df = pd.read_csv(\"census_rose.csv\")\n",
    "smote_df = pd.read_csv(\"census_smote.csv\")\n",
    "under_df = pd.read_csv(\"census_under.csv\")\n",
    "over_df = pd.read_csv(\"census_over.csv\")\n",
    "test_df = pd.read_csv(\"test.csv\")\n",
    "orig_df.drop(\"Unnamed: 0\", axis = 1, inplace = True)\n",
    "rose_df.drop(\"Unnamed: 0\", axis = 1, inplace = True)\n",
    "smote_df.drop(\"Unnamed: 0\", axis = 1, inplace = True)\n",
    "under_df.drop(\"Unnamed: 0\", axis = 1, inplace = True)\n",
    "over_df.drop(\"Unnamed: 0\", axis = 1, inplace = True)\n",
    "test_df.drop(\"Unnamed: 0\", axis = 1, inplace = True)"
   ]
  },
  {
   "cell_type": "code",
   "execution_count": 3,
   "metadata": {
    "collapsed": false,
    "scrolled": true
   },
   "outputs": [
    {
     "data": {
      "text/plain": [
       "0    93576\n",
       "1     6186\n",
       "Name: income_level, dtype: int64"
      ]
     },
     "execution_count": 3,
     "metadata": {},
     "output_type": "execute_result"
    }
   ],
   "source": [
    "test_df.income_level.value_counts()"
   ]
  },
  {
   "cell_type": "markdown",
   "metadata": {},
   "source": [
    "### Train the Classifier"
   ]
  },
  {
   "cell_type": "code",
   "execution_count": 4,
   "metadata": {
    "collapsed": false
   },
   "outputs": [],
   "source": [
    "feature_list = orig_df.columns.values.tolist()"
   ]
  },
  {
   "cell_type": "code",
   "execution_count": 5,
   "metadata": {
    "collapsed": false
   },
   "outputs": [],
   "source": [
    "cat_feature_list = list(set(feature_list) - set(orig_df._get_numeric_data().columns.values.tolist()))"
   ]
  },
  {
   "cell_type": "code",
   "execution_count": 6,
   "metadata": {
    "collapsed": false
   },
   "outputs": [],
   "source": [
    "def get_dummy_func(df):\n",
    "    df_new = df[['num_person_Worked_employer', 'year']]\n",
    "    for category in cat_feature_list:\n",
    "        series = df[category]\n",
    "        dummies = pd.get_dummies(series, prefix=category)\n",
    "        df_new = pd.concat([df_new, dummies], axis=1)\n",
    "    return df_new"
   ]
  },
  {
   "cell_type": "code",
   "execution_count": 7,
   "metadata": {
    "collapsed": true
   },
   "outputs": [],
   "source": [
    "orig = get_dummy_func(orig_df)\n",
    "under = get_dummy_func(under_df)\n",
    "over = get_dummy_func(over_df)\n",
    "smote = get_dummy_func(smote_df)\n",
    "rose = get_dummy_func(rose_df)\n",
    "test = get_dummy_func(test_df)"
   ]
  },
  {
   "cell_type": "code",
   "execution_count": 34,
   "metadata": {
    "collapsed": false
   },
   "outputs": [],
   "source": []
  },
  {
   "cell_type": "code",
   "execution_count": 8,
   "metadata": {
    "collapsed": false
   },
   "outputs": [
    {
     "data": {
      "text/plain": [
       "(99762, 104)"
      ]
     },
     "execution_count": 8,
     "metadata": {},
     "output_type": "execute_result"
    }
   ],
   "source": [
    "np.shape(test.values)"
   ]
  },
  {
   "cell_type": "code",
   "execution_count": 46,
   "metadata": {
    "collapsed": false
   },
   "outputs": [
    {
     "data": {
      "text/plain": [
       "0.25216872446871985"
      ]
     },
     "execution_count": 46,
     "metadata": {},
     "output_type": "execute_result"
    }
   ],
   "source": []
  },
  {
   "cell_type": "code",
   "execution_count": 16,
   "metadata": {
    "collapsed": false
   },
   "outputs": [],
   "source": [
    "def do_cm_cr(model, X_train, y_train, X_test, y_test, names):\n",
    "    model.fit(X_train, y_train)\n",
    "    y_pred = model.predict(X_test)\n",
    "#     y_score = model.decision_function(X_test)\n",
    "    y_proba_score = model.predict_proba(X_test)\n",
    "\n",
    "\n",
    "    FPR, TPR, thresholds = roc_curve(y_test, y_proba_score[:,1])\n",
    "    ROC_AUC_orig = auc(FPR, TPR)\n",
    "    if ROC_AUC_orig > 0.5:\n",
    "        ROC_AUC = ROC_AUC_orig\n",
    "    else:\n",
    "        print \"Classifier Flipped\"\n",
    "        y_pred = 1 - y_pred\n",
    "        y_proba_score = 1- y_proba_score\n",
    "        ROC_AUC = 1 - ROC_AUC_orig\n",
    "    \n",
    "    print \"AUC is:\", ROC_AUC, \"\\n\"\n",
    "\n",
    "    print \"Classification Report: \\n\", (classification_report(y_test, y_pred)), \"\\n\"\n",
    "\n",
    "    print \"Confusion Matrix: \\n\"\n",
    "    confmat = confusion_matrix(y_test, y_pred)\n",
    "    idx = ['Negative', 'Positive']\n",
    "    col = ['Predicted Negative', 'Predicted Positive']\n",
    "    print pd.DataFrame(confmat, index=idx, columns=col), \"\\n\"\n",
    "\n",
    "    \n",
    "    TN = confmat[0][0]\n",
    "    FP = confmat[0][1]\n",
    "    FN = confmat[1][0]\n",
    "    TP = confmat[1][1]\n",
    "    TPR = float(TP)/(TP+FN)\n",
    "    TNR = float(TN)/(TN+FP)\n",
    "\n",
    "    print \"True Positive Rate is: %f\" %TPR\n",
    "    print \"True Negative Rate is: %f\" %TNR\n"
   ]
  },
  {
   "cell_type": "code",
   "execution_count": null,
   "metadata": {
    "collapsed": true
   },
   "outputs": [],
   "source": []
  },
  {
   "cell_type": "code",
   "execution_count": 17,
   "metadata": {
    "collapsed": false
   },
   "outputs": [
    {
     "name": "stderr",
     "output_type": "stream",
     "text": [
      "/home/fei/anaconda2/envs/gl-env/lib/python2.7/site-packages/sklearn/utils/validation.py:515: DataConversionWarning: A column-vector y was passed when a 1d array was expected. Please change the shape of y to (n_samples, ), for example using ravel().\n",
      "  y = column_or_1d(y, warn=True)\n"
     ]
    },
    {
     "name": "stdout",
     "output_type": "stream",
     "text": [
      "AUC is: 0.931593009036 \n",
      "\n",
      "Classification Report: \n",
      "             precision    recall  f1-score   support\n",
      "\n",
      "          0       0.96      0.99      0.97     93576\n",
      "          1       0.65      0.31      0.42      6186\n",
      "\n",
      "avg / total       0.94      0.95      0.94     99762\n",
      "\n",
      "\n",
      "Confusion Matrix: \n",
      "\n",
      "          Predicted Negative  Predicted Positive\n",
      "Negative               92573                1003\n",
      "Positive                4294                1892 \n",
      "\n",
      "True Positive Rate is: 0.305852\n",
      "True Negative Rate is: 0.989281\n"
     ]
    }
   ],
   "source": [
    "logreg = LogisticRegression()\n",
    "do_cm_cr(logreg, orig.values, orig_df[[-1]], test.values, test_df[[-1]], ['0', '1'])"
   ]
  },
  {
   "cell_type": "code",
   "execution_count": 24,
   "metadata": {
    "collapsed": false
   },
   "outputs": [
    {
     "data": {
      "text/plain": [
       "0.651685393258427"
      ]
     },
     "execution_count": 24,
     "metadata": {},
     "output_type": "execute_result"
    }
   ],
   "source": [
    "(89-31)/float(89)"
   ]
  },
  {
   "cell_type": "code",
   "execution_count": 22,
   "metadata": {
    "collapsed": false
   },
   "outputs": [
    {
     "name": "stderr",
     "output_type": "stream",
     "text": [
      "/home/fei/anaconda2/envs/gl-env/lib/python2.7/site-packages/sklearn/utils/validation.py:515: DataConversionWarning: A column-vector y was passed when a 1d array was expected. Please change the shape of y to (n_samples, ), for example using ravel().\n",
      "  y = column_or_1d(y, warn=True)\n"
     ]
    },
    {
     "name": "stdout",
     "output_type": "stream",
     "text": [
      "AUC is: 0.931567172096 \n",
      "\n",
      "Classification Report: \n",
      "             precision    recall  f1-score   support\n",
      "\n",
      "          0       0.99      0.83      0.90     93576\n",
      "          1       0.25      0.89      0.39      6186\n",
      "\n",
      "avg / total       0.95      0.83      0.87     99762\n",
      "\n",
      "\n",
      "Confusion Matrix: \n",
      "\n",
      "          Predicted Negative  Predicted Positive\n",
      "Negative               77283               16293\n",
      "Positive                 692                5494 \n",
      "\n",
      "True Positive Rate is: 0.888134\n",
      "True Negative Rate is: 0.825885\n"
     ]
    }
   ],
   "source": [
    "logreg = LogisticRegression()\n",
    "do_cm_cr(logreg, rose.values, rose_df[[-1]], test.values, test_df[[-1]], ['0', '1'])"
   ]
  },
  {
   "cell_type": "code",
   "execution_count": null,
   "metadata": {
    "collapsed": true
   },
   "outputs": [],
   "source": []
  },
  {
   "cell_type": "code",
   "execution_count": 18,
   "metadata": {
    "collapsed": false
   },
   "outputs": [
    {
     "name": "stderr",
     "output_type": "stream",
     "text": [
      "/home/fei/anaconda2/envs/gl-env/lib/python2.7/site-packages/sklearn/utils/validation.py:515: DataConversionWarning: A column-vector y was passed when a 1d array was expected. Please change the shape of y to (n_samples, ), for example using ravel().\n",
      "  y = column_or_1d(y, warn=True)\n"
     ]
    },
    {
     "name": "stdout",
     "output_type": "stream",
     "text": [
      "Classifier Flipped\n",
      "AUC is: 0.930312798716 \n",
      "\n",
      "Classification Report: \n",
      "             precision    recall  f1-score   support\n",
      "\n",
      "          0       0.96      0.99      0.97     93576\n",
      "          1       0.65      0.31      0.42      6186\n",
      "\n",
      "avg / total       0.94      0.95      0.94     99762\n",
      "\n",
      "\n",
      "Confusion Matrix: \n",
      "\n",
      "          Predicted Negative  Predicted Positive\n",
      "Negative               92536                1040\n",
      "Positive                4287                1899 \n",
      "\n",
      "True Positive Rate is: 0.306984\n",
      "True Negative Rate is: 0.988886\n"
     ]
    }
   ],
   "source": [
    "logreg = LogisticRegression()\n",
    "do_cm_cr(logreg, smote.values, smote_df[[-1]], test.values, test_df[[-1]], ['0', '1'])"
   ]
  },
  {
   "cell_type": "code",
   "execution_count": null,
   "metadata": {
    "collapsed": true
   },
   "outputs": [],
   "source": []
  },
  {
   "cell_type": "code",
   "execution_count": 20,
   "metadata": {
    "collapsed": false
   },
   "outputs": [
    {
     "name": "stderr",
     "output_type": "stream",
     "text": [
      "/home/fei/anaconda2/envs/gl-env/lib/python2.7/site-packages/sklearn/utils/validation.py:515: DataConversionWarning: A column-vector y was passed when a 1d array was expected. Please change the shape of y to (n_samples, ), for example using ravel().\n",
      "  y = column_or_1d(y, warn=True)\n"
     ]
    },
    {
     "name": "stdout",
     "output_type": "stream",
     "text": [
      "Classifier Flipped\n",
      "AUC is: 0.931453115381 \n",
      "\n",
      "Classification Report: \n",
      "             precision    recall  f1-score   support\n",
      "\n",
      "          0       0.99      0.87      0.92     93576\n",
      "          1       0.29      0.83      0.44      6186\n",
      "\n",
      "avg / total       0.94      0.87      0.89     99762\n",
      "\n",
      "\n",
      "Confusion Matrix: \n",
      "\n",
      "          Predicted Negative  Predicted Positive\n",
      "Negative               81284               12292\n",
      "Positive                1049                5137 \n",
      "\n",
      "True Positive Rate is: 0.830424\n",
      "True Negative Rate is: 0.868642\n"
     ]
    }
   ],
   "source": [
    "logreg = LogisticRegression()\n",
    "do_cm_cr(logreg, under.values, under_df[[-1]], test.values, test_df[[-1]], ['0', '1'])"
   ]
  },
  {
   "cell_type": "code",
   "execution_count": null,
   "metadata": {
    "collapsed": true
   },
   "outputs": [],
   "source": []
  },
  {
   "cell_type": "code",
   "execution_count": 21,
   "metadata": {
    "collapsed": false
   },
   "outputs": [
    {
     "name": "stderr",
     "output_type": "stream",
     "text": [
      "/home/fei/anaconda2/envs/gl-env/lib/python2.7/site-packages/sklearn/utils/validation.py:515: DataConversionWarning: A column-vector y was passed when a 1d array was expected. Please change the shape of y to (n_samples, ), for example using ravel().\n",
      "  y = column_or_1d(y, warn=True)\n"
     ]
    },
    {
     "name": "stdout",
     "output_type": "stream",
     "text": [
      "Classifier Flipped\n",
      "AUC is: 0.93159864683 \n",
      "\n",
      "Classification Report: \n",
      "             precision    recall  f1-score   support\n",
      "\n",
      "          0       0.99      0.83      0.90     93576\n",
      "          1       0.25      0.89      0.39      6186\n",
      "\n",
      "avg / total       0.95      0.83      0.87     99762\n",
      "\n",
      "\n",
      "Confusion Matrix: \n",
      "\n",
      "          Predicted Negative  Predicted Positive\n",
      "Negative               77433               16143\n",
      "Positive                 710                5476 \n",
      "\n",
      "True Positive Rate is: 0.885225\n",
      "True Negative Rate is: 0.827488\n"
     ]
    }
   ],
   "source": [
    "logreg = LogisticRegression()\n",
    "do_cm_cr(logreg, over.values, over_df[[-1]], test.values, test_df[[-1]], ['0', '1'])"
   ]
  }
 ],
 "metadata": {
  "kernelspec": {
   "display_name": "Python [gl-env]",
   "language": "python",
   "name": "Python [gl-env]"
  },
  "language_info": {
   "codemirror_mode": {
    "name": "ipython",
    "version": 2
   },
   "file_extension": ".py",
   "mimetype": "text/x-python",
   "name": "python",
   "nbconvert_exporter": "python",
   "pygments_lexer": "ipython2",
   "version": "2.7.11"
  }
 },
 "nbformat": 4,
 "nbformat_minor": 0
}
